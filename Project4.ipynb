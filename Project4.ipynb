{
 "cells": [
  {
   "cell_type": "markdown",
   "metadata": {},
   "source": [
    "### Project 4\n",
    "#### Start with the mushroom data in the pandas DataFrame that you constructed in Week 13\n",
    "- Use scikit-learn to determine which of the two predictor columns that you selected (odor and one other column of your choice) most accurately predicts whether or not a mushroom is poisonous. \n",
    "- Use scikit-learn’s predictive classifiers, you’ll want to convert each of your two (numeric categorical) predictor columns into a set of columns. \n",
    "- Clearly state your conclusions along with any recommendations for further analysis"
   ]
  },
  {
   "cell_type": "code",
   "execution_count": 4,
   "metadata": {},
   "outputs": [],
   "source": [
    "#Import modules\n",
    "import matplotlib.pyplot as plt\n",
    "import numpy as np\n",
    "from sklearn import datasets, linear_model\n",
    "from sklearn.metrics import mean_squared_error, r2_score\n",
    "from sklearn import metrics\n",
    "from sklearn.cross_validation import train_test_split\n",
    "from sklearn.linear_model import LinearRegression"
   ]
  },
  {
   "cell_type": "code",
   "execution_count": 5,
   "metadata": {},
   "outputs": [
    {
     "data": {
      "text/html": [
       "<div>\n",
       "<style>\n",
       "    .dataframe thead tr:only-child th {\n",
       "        text-align: right;\n",
       "    }\n",
       "\n",
       "    .dataframe thead th {\n",
       "        text-align: left;\n",
       "    }\n",
       "\n",
       "    .dataframe tbody tr th {\n",
       "        vertical-align: top;\n",
       "    }\n",
       "</style>\n",
       "<table border=\"1\" class=\"dataframe\">\n",
       "  <thead>\n",
       "    <tr style=\"text-align: right;\">\n",
       "      <th></th>\n",
       "      <th>Edibility</th>\n",
       "      <th>CapSurface</th>\n",
       "      <th>Odor</th>\n",
       "    </tr>\n",
       "  </thead>\n",
       "  <tbody>\n",
       "    <tr>\n",
       "      <th>0</th>\n",
       "      <td>0</td>\n",
       "      <td>3</td>\n",
       "      <td>7</td>\n",
       "    </tr>\n",
       "    <tr>\n",
       "      <th>1</th>\n",
       "      <td>1</td>\n",
       "      <td>3</td>\n",
       "      <td>0</td>\n",
       "    </tr>\n",
       "    <tr>\n",
       "      <th>2</th>\n",
       "      <td>1</td>\n",
       "      <td>3</td>\n",
       "      <td>1</td>\n",
       "    </tr>\n",
       "    <tr>\n",
       "      <th>3</th>\n",
       "      <td>0</td>\n",
       "      <td>2</td>\n",
       "      <td>7</td>\n",
       "    </tr>\n",
       "    <tr>\n",
       "      <th>4</th>\n",
       "      <td>1</td>\n",
       "      <td>3</td>\n",
       "      <td>6</td>\n",
       "    </tr>\n",
       "  </tbody>\n",
       "</table>\n",
       "</div>"
      ],
      "text/plain": [
       "   Edibility  CapSurface  Odor\n",
       "0          0           3     7\n",
       "1          1           3     0\n",
       "2          1           3     1\n",
       "3          0           2     7\n",
       "4          1           3     6"
      ]
     },
     "execution_count": 5,
     "metadata": {},
     "output_type": "execute_result"
    }
   ],
   "source": [
    "#Read in data from the Mushrooms Dataset, then convert to numerical values\n",
    "import pandas as pd\n",
    "mushrooms = pd.read_csv('https://archive.ics.uci.edu/ml/machine-learning-databases/mushroom/agaricus-lepiota.data', usecols = [0,2,5], names = [\"Edibility\", \"CapSurface\", \"Odor\"])\n",
    "mushrooms[\"Edibility\"].replace(['p','e'], ([0,1]), inplace=True)\n",
    "mushrooms[\"CapSurface\"].replace(['f','g','y','s'], ([0,1,2,3]), inplace=True)\n",
    "mushrooms[\"Odor\"].replace(['a','l','c','y','f','m','n','p','s'], ([0,1,2,3,4,5,6,7,8]), inplace=True)\n",
    "mushrooms.head()"
   ]
  },
  {
   "cell_type": "code",
   "execution_count": 6,
   "metadata": {},
   "outputs": [
    {
     "name": "stdout",
     "output_type": "stream",
     "text": [
      "Odor head \n",
      "    0  1  2  3  4  5  6  7  8\n",
      "0  0  0  0  0  0  0  0  1  0\n",
      "1  1  0  0  0  0  0  0  0  0\n",
      "2  0  1  0  0  0  0  0  0  0\n",
      "3  0  0  0  0  0  0  0  1  0\n",
      "4  0  0  0  0  0  0  1  0  0\n",
      "Cap Surface head \n",
      "    0  1  2  3\n",
      "0  0  0  0  1\n",
      "1  0  0  0  1\n",
      "2  0  0  0  1\n",
      "3  0  0  1  0\n",
      "4  0  0  0  1\n"
     ]
    }
   ],
   "source": [
    "#convert columns to binary data\n",
    "odorbin = pd.get_dummies(mushrooms['Odor'])\n",
    "capsurfbin = pd.get_dummies(mushrooms['CapSurface'])\n",
    "print('Odor head','\\n', odorbin.head())\n",
    "print('Cap Surface head','\\n', capsurfbin.head())"
   ]
  },
  {
   "cell_type": "code",
   "execution_count": 8,
   "metadata": {},
   "outputs": [],
   "source": [
    "#concantenate the new columns to the orignial dataset\n",
    "newset = pd.concat([mushrooms, odorbin, capsurfbin], axis = 1)"
   ]
  },
  {
   "cell_type": "code",
   "execution_count": 13,
   "metadata": {},
   "outputs": [],
   "source": [
    "#set up x and y and test sets\n",
    "X = newset.values[:, np.newaxis, 2]\n",
    "X_train = X[:10]\n",
    "X_test = X[-10:]\n",
    "y_train = newset.Edibility[:10]\n",
    "y_test = newset.Edibility[-10:]\n",
    "\n",
    "regr = linear_model.LinearRegression()\n",
    "regr.fit(X_train, y_train)\n",
    "pred = regr.predict(X_test)"
   ]
  },
  {
   "cell_type": "code",
   "execution_count": 14,
   "metadata": {},
   "outputs": [
    {
     "name": "stdout",
     "output_type": "stream",
     "text": [
      "Coefficients: \n",
      " [-0.12190287]\n",
      "Mean squared error: 0.38\n",
      "Variance score: -0.51\n"
     ]
    }
   ],
   "source": [
    "#Calculate coefficients\n",
    "print('Coefficients: \\n', regr.coef_)\n",
    "# The mean squared error\n",
    "print(\"Mean squared error: %.2f\"\n",
    "      % mean_squared_error(y_test, pred))\n",
    "# Explained variance score: 1 is perfect prediction\n",
    "print('Variance score: %.2f' % r2_score(y_test, pred))\n"
   ]
  },
  {
   "cell_type": "markdown",
   "metadata": {},
   "source": [
    "### Show plot data for the Odor column\n",
    "### The linear plot line shows that Odor does have a definitive relationship with Edibility, and therefore can be used to accurately predict edibility. "
   ]
  },
  {
   "cell_type": "code",
   "execution_count": 15,
   "metadata": {},
   "outputs": [
    {
     "data": {
      "image/png": "[encoded data removed]",
      "text/plain": [
       "<matplotlib.figure.Figure at 0xbc23630>"
      ]
     },
     "metadata": {},
     "output_type": "display_data"
    }
   ],
   "source": [
    "#show plotted data for Odor column\n",
    "\n",
    "plt.scatter(X_test, y_test,  color='black')\n",
    "plt.plot(X_test, pred, color='blue', linewidth=3)\n",
    "\n",
    "plt.xticks(())\n",
    "plt.yticks(())\n",
    "\n",
    "plt.show()\n"
   ]
  },
  {
   "cell_type": "markdown",
   "metadata": {},
   "source": [
    "### Cap surface is not linear and therfore is not a good predictor of edibility."
   ]
  },
  {
   "cell_type": "code",
   "execution_count": 16,
   "metadata": {},
   "outputs": [
    {
     "data": {
      "image/png": "[encoded data removed]",
      "text/plain": [
       "<matplotlib.figure.Figure at 0xbd4c3c8>"
      ]
     },
     "metadata": {},
     "output_type": "display_data"
    }
   ],
   "source": [
    "#Plot data for Cap Surface\n",
    "X = newset.values[:, np.newaxis, 3]\n",
    "X_train = X[:10]\n",
    "X_test = X[-10:]\n",
    "y_train = newset.Edibility[:10]\n",
    "y_test = newset.Edibility[-10:]\n",
    "plt.scatter(X_test, y_test,  color='black')\n",
    "plt.plot(X_test, pred, color='blue', linewidth=3)\n",
    "\n",
    "plt.xticks(())\n",
    "plt.yticks(())\n",
    "plt.show()"
   ]
  },
  {
   "cell_type": "markdown",
   "metadata": {},
   "source": [
    "### Conclusion\n",
    "In conclusion, odor is a good indicator of edbility, while cap surface is not. Further analysis might include analyses on a combination of attributes together, rather than evaluating single attributes separately."
   ]
  }
 ],
 "metadata": {
  "kernelspec": {
   "display_name": "Python 3",
   "language": "python",
   "name": "python3"
  },
  "language_info": {
   "codemirror_mode": {
    "name": "ipython",
    "version": 3
   },
   "file_extension": ".py",
   "mimetype": "text/x-python",
   "name": "python",
   "nbconvert_exporter": "python",
   "pygments_lexer": "ipython3",
   "version": "3.6.3"
  }
 },
 "nbformat": 4,
 "nbformat_minor": 2
}
